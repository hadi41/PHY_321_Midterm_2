{
 "cells": [
  {
   "cell_type": "markdown",
   "metadata": {},
   "source": [
    "$$\n",
    "\\def\\half{\\frac{1}{2}}\n",
    "\\def\\O{\\mathcal{O}}\n",
    "\\def\\ex{\\vec{e_x}}\n",
    "\\def\\ey{\\vec{e_y}}\n",
    "\\def\\ez{\\vec{e_z}}\n",
    "\\def\\F{\\vec{F}}\n",
    "\\def\\r{\\vec{r}}\n",
    "\\def\\a{\\vec{a}}\n",
    "\\def\\v{\\vec{v}}\n",
    "\\def\\begal{\\begin{align}}\n",
    "\\def\\endal{\\end{align}}\n",
    "\\def\\div{\\nabla\\cdot}\n",
    "\\newcommand{\\parx}[1]{\\frac{\\partial #1}{\\partial x}}\n",
    "\\newcommand{\\pary}[1]{\\frac{\\partial #1}{\\partial y}}\n",
    "\\newcommand{\\parz}[1]{\\frac{\\partial #1}{\\partial z}}\n",
    "\\newcommand{\\parti}[2]{\\frac{\\partial #1}{\\partial #2}}\n",
    "\\newcommand{\\ddx}[1]{\\frac{d #1}{dx}}\n",
    "\\newcommand{\\ddy}[1]{\\frac{d #1}{dy}}\n",
    "\\newcommand{\\ddz}[1]{\\frac{d #1}{dz}}\n",
    "\\newcommand{\\ddr}[1]{\\frac{d #1}{dr}}\n",
    "\\newcommand{\\ddt}[1]{\\frac{d #1}{dt}}\n",
    "\\newcommand{\\dd}[2]{\\frac{d #1}{d #2}}\n",
    "\\newcommand{\\ddxtwo}[1]{\\frac{d^2 #1}{dx^2}}\n",
    "\\newcommand{\\ddytwo}[1]{\\frac{d^2 #1}{dy^2}}\n",
    "\\newcommand{\\ddztwo}[1]{\\frac{d^2 #1}{dz^2}}\n",
    "\\newcommand{\\ddrtwo}[1]{\\frac{d^2 #1}{dr^2}}\n",
    "\\newcommand{\\ddttwo}[1]{\\frac{d^2 #1}{dt^2}}\n",
    "\\newcommand{\\ddtwo}[2]{\\frac{d^2 #1}{d #2 ^2}}\n",
    "\\def\\grad{\\nabla}\n",
    "\\newcommand{\\delcartesian}[1]{\\frac{\\partial}{\\partial x_{ #1}}\\ex + \\frac{\\partial}{\\partial y_{ #1}}\\ey + \\frac{\\partial}{\\partial z_{ #1}}\\ez}\n",
    "\\def\\lp{\\left(}\n",
    "\\def\\rp{\\right)}\n",
    "\\def\\lb{\\left[}\n",
    "\\def\\rb{\\right]}\n",
    "\\def\\lc{\\left\\{}\n",
    "\\def\\rc{\\right\\}}\n",
    "\\newcommand{\\over}[1]{\\frac{1}{#1}}\n",
    "\\def\\rabs{\\sqrt{x^2 + y^2 + z^2}}\n",
    "\\def\\rvec{x\\ex + y\\ey + z\\ez}\n",
    "\\def\\muTB{\\frac{m_1m_2}{m_1+m_2}}\n",
    "\\def\\MTB{m_1+m_2}\n",
    "$$"
   ]
  },
  {
   "cell_type": "markdown",
   "metadata": {},
   "source": [
    "<!-- dom:TITLE: PHY321: Classical Mechanics 1 -->\n",
    "# PHY321: Classical Mechanics 1\n",
    "<!-- dom:AUTHOR: Second midterm project, due Friday April 17 -->\n",
    "<!-- Author: -->  \n",
    "**Second midterm project, due Friday April 17**\n",
    "\n",
    "Date: **Apr 6, 2020**\n",
    "\n",
    "### Practicalities about  homeworks and projects\n",
    "\n",
    "1. You can work in groups (optimal groups are often 2-3 people) or by yourself. If you work as a group you can hand in one answer only if you wish. **Remember to write your name(s)**!\n",
    "\n",
    "2. How do I(we)  hand in?  Due to the extraordinary situation we are in now, the midterm should be handed in fully via D2L. You can scan your handwritten notes and upload to D2L or you can hand in everyhting (if you are ok with typing mathematical formulae using say Latex) as a jupyter notebook at D2L. The numerical part should always be handed in as a jupyter notebook.\n",
    "\n",
    "### Introduction to the second midterm project, total score 100 points\n",
    "\n",
    "In this midterm we will attempt at writing a program that simulates\n",
    "the solar system. We start with the Earth-Sun system we studied in\n",
    "homework 4 and study elliptical orbits and their properties. We test\n",
    "also elliptical orbits and their dependence on powers $\\beta$ of\n",
    "$r^{\\beta}$. We will test other aspects of the Earth-Sun system and\n",
    "link these to the theoretical discussion on two-body problems with\n",
    "central forces. \n",
    "\n",
    "Thereafter, based on the three-body problem studied in homework 9, we\n",
    "attempt at making a code which simulates the solar system.\n",
    "\n",
    "The relevant reading background is\n",
    "1. chapter 8 of  Taylor.\n",
    "\n",
    "2. Lecture notes on central forces and two-body problems\n",
    "\n",
    "3. Homeworks 4, 7, 8 and 9\n",
    "\n",
    "### Part 1 (50pt), the inverse-square law and the stability of planetary orbits\n",
    "\n",
    "In homework 8 we studied an attractive potential"
   ]
  },
  {
   "cell_type": "markdown",
   "metadata": {},
   "source": [
    "$$\n",
    "V(r)=-\\alpha/r,\n",
    "$$"
   ]
  },
  {
   "cell_type": "markdown",
   "metadata": {},
   "source": [
    "where the quantity $r$ is the absolute value of the relative position and $\\alpha$ is a constant.\n",
    "\n",
    "When we rewrote the equations of motion in polar coordinates, the analytical solution to the radial equation of motion was"
   ]
  },
  {
   "cell_type": "markdown",
   "metadata": {},
   "source": [
    "$$\n",
    "r(\\phi) = \\frac{c}{1+\\epsilon\\cos{(\\phi)}},\n",
    "$$"
   ]
  },
  {
   "cell_type": "markdown",
   "metadata": {},
   "source": [
    "where $c=L^2/\\mu\\alpha$, with\n",
    "the reduced mass $\\mu$ and the angular momentum $L$, as\n",
    "discussed during the lectures. With the transformation of a two-body\n",
    "problem to the center-of-mass frame, the actual equations look like an\n",
    "*effective* one-body problem. \n",
    "\n",
    "The quantity $\\epsilon$ is what we called the eccentricity. Since we will mainly study bounded orbits,\n",
    "we have $0 \\le \\epsilon < 1$.\n",
    "For the Earth, the orbit is indeed close to circular and at perihelion (the closest distance to the Sun), the Earth's center is about 0.98329 astronomical units (AU) or 147,098,070 km from the Sun's center. For Earth, the orbital eccentricity is $\\epsilon\\approx 0.0167$. The outer planets have more elliptical orbits. For example, Mars has its perihelion at 206,655,215 km and its apehelion at 249,232,432 km. \n",
    "\n",
    "In this part we will limit ourselves to the Earth-Sun system we studied in homework 4. You can reuse your code with either the Velocity-Verlet or the Euler-Cromer algorithms from homework 4.\n",
    "\n",
    "This means also that $\\alpha=GM_{\\odot}M_{\\mathrm{Earth}}$. We will\n",
    "use $\\alpha$ as a shorthand in the equations here. Keep in mind that\n",
    "in homework 4 you scaled $GM_{\\odot}=4\\pi^2$ in your code.\n",
    "\n",
    "The exercises here are all based on you analyzing the results from your code from homework 4.\n",
    "\n",
    "\n",
    "* 1a (10pt) Use now your code from homework 4 (in cartesian coordinates). Start with a circular orbit setting $\\epsilon=0$ and plot $x$ versus $y$. How would you choose the initial conditions to obtain a circular orbit?"
   ]
  },
  {
   "cell_type": "markdown",
   "metadata": {},
   "source": [
    "* 1b (10pt) Check that for the case of a circular orbit that both the kinetic and the potential energies are conserved. Why do we expect such a result if we have a circular orbit? "
   ]
  },
  {
   "cell_type": "markdown",
   "metadata": {},
   "source": [
    "* 1c (10pt) With the same initial conditions (circular orbit) Use Kepler's second law (see Taylor section 3.4) to show that angular momentum is conserved. Compare the value you get with the angular momentum you get from a circular orbit. "
   ]
  },
  {
   "cell_type": "markdown",
   "metadata": {},
   "source": [
    "* 1d (10pt) Till now we have assumed that we have an inverse-square force $F(r) = -\\alpha/r^2$. Let us rewrite this force as $F(r) = -\\alpha/r^{\\beta}$ with $\\beta=[2,2.01,2.10,2.5,3.0,3.5]$. Run your Sun-Earth code with these values of $\\beta$ and plot $x$ versus $y$ (you can use the same initial conditions or switch to eliptical orbits). Discuss your results. Can you use the observations of planetary motion to determine by what amount Nature deviates from a perfect inverse-square law? "
   ]
  },
  {
   "cell_type": "markdown",
   "metadata": {},
   "source": [
    "* 1e (10pt) Consider now an elliptical orbit with an initial position 1 AU from the Sun and an initial  velocity of 5 AU/yr. Show that the total energy is a constant (the kinetic and potential energies will vary). Show also that the angular momentum is a constant. If you change the parameter $\\beta$ in $F(r) = -\\alpha/r^{\\beta}$ from $\\beta=2$ to $\\beta=3$, are these quantities conserved?  Discuss your results. (Hint: relate your results to Kepler's laws). "
   ]
  },
  {
   "cell_type": "markdown",
   "metadata": {},
   "source": [
    "### Part 2 (50pt), making a program for the solar system\n",
    "\n",
    "Our final aim is to write a code which includes the known planets of the solar system. \n",
    "\n",
    "We will, as before, use so-called astronomical units when rewriting our equations. \n",
    "Using astronomical units (AU as abbreviation)it means that \n",
    "one astronomical unit of length, known as 1 AU, is the average distance between the Sun and Earth, that is\n",
    "$1$ AU = $1.5\\times 10^{11}$ m.  It can also be convenient to use years instead of seconds since years match\n",
    "better the time evolution of the solar system. The mass of the Sun is $M_{\\mathrm{sun}}=M_{\\odot}=2\\times 10^{30}$ kg. The masses of all relevant planets and their distances from the sun are listed in the table here in kg and AU.\n",
    "\n",
    "<table border=\"1\">\n",
    "<thead>\n",
    "<tr><th align=\"center\"> Planet</th> <th align=\"center\">                 Mass in kg                </th> <th align=\"center\">Distance to  sun in AU</th> </tr>\n",
    "</thead>\n",
    "<tbody>\n",
    "<tr><td align=\"center\">   Earth      </td> <td align=\"center\">   $M_{\\mathrm{Earth}}=6\\times 10^{24}$ kg        </td> <td align=\"center\">   1AU                       </td> </tr>\n",
    "<tr><td align=\"center\">   Jupiter    </td> <td align=\"center\">   $M_{\\mathrm{Jupiter}}=1.9\\times 10^{27}$ kg    </td> <td align=\"center\">   5.20 AU                   </td> </tr>\n",
    "<tr><td align=\"center\">   Mars       </td> <td align=\"center\">   $M_{\\mathrm{Mars}}=6.6\\times 10^{23}$ kg       </td> <td align=\"center\">   1.52 AU                   </td> </tr>\n",
    "<tr><td align=\"center\">   Venus      </td> <td align=\"center\">   $M_{\\mathrm{Venus}}=4.9\\times 10^{24}$ kg      </td> <td align=\"center\">   0.72 AU                   </td> </tr>\n",
    "<tr><td align=\"center\">   Saturn     </td> <td align=\"center\">   $M_{\\mathrm{Saturn}}=5.5\\times 10^{26}$ kg     </td> <td align=\"center\">   9.54 AU                   </td> </tr>\n",
    "<tr><td align=\"center\">   Mercury    </td> <td align=\"center\">   $M_{\\mathrm{Mercury}}=3.3\\times 10^{23}$ kg    </td> <td align=\"center\">   0.39 AU                   </td> </tr>\n",
    "<tr><td align=\"center\">   Uranus     </td> <td align=\"center\">   $M_{\\mathrm{Uranus}}=8.8\\times 10^{25}$ kg     </td> <td align=\"center\">   19.19 AU                  </td> </tr>\n",
    "<tr><td align=\"center\">   Neptun     </td> <td align=\"center\">   $M_{\\mathrm{Neptun}}=1.03\\times 10^{26}$ kg    </td> <td align=\"center\">   30.06 AU                  </td> </tr>\n",
    "<tr><td align=\"center\">   Pluto      </td> <td align=\"center\">   $M_{\\mathrm{Pluto}}=1.31\\times 10^{22}$ kg     </td> <td align=\"center\">   39.53 AU                  </td> </tr>\n",
    "</tbody>\n",
    "</table>\n",
    "Pluto is no longer considered  a planet, but we add it here for historical reasons. It is optional in this midterm project to include Pluto and eventual moons. \n",
    "\n",
    "In setting up the equations we can limit ourselves to a co-planar motion and use only the $x$ and $y$ coordinates. But you should feel free to extend your equations to three dimensions, it is not very difficult and the data from NASA are all in three dimensions.\n",
    "\n",
    "[NASA](http://www.nasa.gov/index.html) has an excellent site at <http://ssd.jpl.nasa.gov/horizons.cgi#top>.\n",
    "From there you can extract initial conditions in order to start your differential equation solver.\n",
    "At the above website you need to change from **OBSERVER** to **VECTOR** and then write in the planet you are interested in.\n",
    "The generated data contain the $x$, $y$ and $z$ values as well as their corresponding velocities. The velocities are in units of AU per day.\n",
    "Alternatively they can be obtained in terms of km and km/s. \n",
    "\n",
    "\n",
    "* 2a (50pt) Since the Sun is much more massive than all the other planets, we will define the Sun as our center of mass and set its velocity and position to zero. You can use your code from homework 9 and add gradually one planet at the time. Develop a code which simulates the solar system with the above planets and plot their orbits. Discuss your results."
   ]
  },
  {
   "cell_type": "markdown",
   "metadata": {},
   "source": [
    "We will use the following values and the data from April 15: \n",
    "* G = 6.67430 $\\times 10^{-11}$ m$^3$kg$^{-1}$s$^{-2}$\n",
    "* 1 AU = 149597870700 m\n",
    "* 1 yr = 31556952 s\n",
    "* 1 d = 86400 s"
   ]
  },
  {
   "cell_type": "code",
   "execution_count": 45,
   "metadata": {},
   "outputs": [],
   "source": [
    "import numpy as np\n",
    "\n",
    "AU = 149597870700\n",
    "yr = 31556952\n",
    "day = 86400\n",
    "MEarth = 5.97219 * 10**(24)\n",
    "\n",
    "class Planet:\n",
    "    def __init__(self,mass,r_init,v_init,name):\n",
    "        self.m = mass / MEarth\n",
    "        self.r = np.array(r_init)\n",
    "        self.v = np.array(v_init) * yr / day\n",
    "        self.name = name\n",
    "    def __str__(self):\n",
    "        return self.name\n",
    "\n",
    "G = 6.67430 * 10**(-11) / AU**3 * MEarth * yr**2\n",
    "M = 1988500 * 10**24 / MEarth\n",
    "\n",
    "Mercury = Planet(3.302 * 10**23, [0.2801,-0.2962],[0.01492,0.02059],'Mercury')\n",
    "Venus = Planet(4.8605 * 10**24, [-0.7185,0.08856],[-0.002410,-0.02019],'Venus')\n",
    "Earth = Planet(5.97219 * 10**24, [-0.9124,-0.4202],[0.007034,-0.01564],'Earth')\n",
    "Mars = Planet(6.4171 * 10**23, [-0.03949,-1.450],[0.01451,0.0008661],'Mars')\n",
    "Jupiter = Planet(1.898 * 10**27, [1.292,-5.017],[0.007216,0.002241],'Jupiter')\n",
    "Saturn = Planet(5.6834 * 10**26, [4.297,-9.046],[0.004730,0.002377],'Saturn')\n",
    "Uranus = Planet(8.6813 * 10**25, [15.98,11.70],[-0.002353,0.002990],'Uranus')\n",
    "Neptune = Planet(1.02413 * 10**26, [29.31,-6.035],[0.0006126,0.003093],'Neptune')\n",
    "Pluto = Planet(1.307 * 10**22, [13.28,-31.31],[0.002969,-0.0005568],'Pluto')\n",
    "\n",
    "full_planet_list = [Mercury,Venus,Earth,Mars,Jupiter,Saturn,Uranus,Neptune,Pluto]"
   ]
  },
  {
   "cell_type": "code",
   "execution_count": 46,
   "metadata": {},
   "outputs": [],
   "source": [
    "def nonzero(r):\n",
    "    for i in range(r.shape[0]):\n",
    "        if r[i] != 0:\n",
    "            return True\n",
    "        else:\n",
    "            pass\n",
    "    return False\n",
    "        \n",
    "def a_sun(rr):\n",
    "    if nonzero(rr):\n",
    "        return - G * M * rr / np.linalg.norm(rr)**3\n",
    "    else:\n",
    "        return np.zeros(rr.shape[0])\n",
    "    \n",
    "def a_2body(m1,m2,r1,r2):\n",
    "    rr = r1 - r2\n",
    "    if nonzero(rr):\n",
    "        return - G * m2 * rr / np.linalg.norm(rr)**3\n",
    "    else:\n",
    "        return np.zeros(rr.shape[0])\n",
    "        \n",
    "def solver_ec(t, a_universal, a_interaction, entered_planet_list):\n",
    "    no_of_planets = len(entered_planet_list)\n",
    "    tN = len(t)\n",
    "    r_tensor = np.zeros((tN,no_of_planets,2))\n",
    "    v_tensor = np.zeros((tN,no_of_planets,2))\n",
    "    m_list = np.zeros(no_of_planets)\n",
    "    for mu in range(no_of_planets):\n",
    "        planet = entered_planet_list[mu]\n",
    "        r_tensor[0][mu] = planet.r\n",
    "        v_tensor[0][mu] = planet.v\n",
    "        m_list[mu] = planet.m\n",
    "    for i in range(tN-1):\n",
    "        ts = t[i+1] - t[i]\n",
    "        a_matrix = np.zeros((no_of_planets,2))\n",
    "        for mu in range(no_of_planets):\n",
    "            r_mu = r_tensor[i][mu]\n",
    "            a_matrix[mu] = a_universal(r_mu)\n",
    "            m_mu = m_list[mu]\n",
    "            for nu in range(mu+1,no_of_planets):\n",
    "                r_nu = r_tensor[i][nu]\n",
    "                m_nu = m_list[nu]\n",
    "                a_mu_nu = a_interaction(m_mu,m_nu,r_mu,r_nu)/m_mu\n",
    "                a_matrix[mu] += a_mu_nu\n",
    "                a_matrix[nu] -= a_mu_nu * m_mu / m_nu\n",
    "        v_tensor[i+1] = v_tensor[i] + a_matrix * ts\n",
    "        r_tensor[i+1] = r_tensor[i] + v_tensor[i+1] * ts\n",
    "    return r_tensor, v_tensor"
   ]
  },
  {
   "cell_type": "markdown",
   "metadata": {},
   "source": [
    "We will use the most recent data from April 15."
   ]
  },
  {
   "cell_type": "code",
   "execution_count": 49,
   "metadata": {},
   "outputs": [],
   "source": [
    "t = np.arange(0,10,0.001)\n",
    "\n",
    "planet_list=full_planet_list[0:4]\n",
    "\n",
    "r, v = solver_ec(t,a_sun,a_2body, planet_list)"
   ]
  },
  {
   "cell_type": "code",
   "execution_count": 53,
   "metadata": {},
   "outputs": [
    {
     "data": {
      "text/plain": [
       "Text(0.5, 1.0, 'Planetary orbits')"
      ]
     },
     "execution_count": 53,
     "metadata": {},
     "output_type": "execute_result"
    },
    {
     "data": {
      "image/png": "[encoded data removed]",
      "text/plain": [
       "<Figure size 864x864 with 1 Axes>"
      ]
     },
     "metadata": {
      "needs_background": "light"
     },
     "output_type": "display_data"
    }
   ],
   "source": [
    "import matplotlib.pyplot as plt\n",
    "%matplotlib inline\n",
    "\n",
    "fig, ax = plt.subplots(1,1,figsize=(12,12))\n",
    "\n",
    "for mu in range(len(planet_list)):\n",
    "    ax.plot(r[:,mu,0],r[:,mu,1],label=str(planet_list[mu]))\n",
    "    ax.set_xlim((-2.0,2.0))\n",
    "    ax.set_ylim((-2.0,2.0))\n",
    "ax.grid()\n",
    "ax.legend()\n",
    "ax.set_title('Planetary orbits')"
   ]
  },
  {
   "cell_type": "code",
   "execution_count": null,
   "metadata": {},
   "outputs": [],
   "source": []
  }
 ],
 "metadata": {
  "kernelspec": {
   "display_name": "Python 3",
   "language": "python",
   "name": "python3"
  },
  "language_info": {
   "codemirror_mode": {
    "name": "ipython",
    "version": 3
   },
   "file_extension": ".py",
   "mimetype": "text/x-python",
   "name": "python",
   "nbconvert_exporter": "python",
   "pygments_lexer": "ipython3",
   "version": "3.7.4"
  }
 },
 "nbformat": 4,
 "nbformat_minor": 2
}
